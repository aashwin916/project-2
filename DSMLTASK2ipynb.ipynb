{
  "nbformat": 4,
  "nbformat_minor": 0,
  "metadata": {
    "colab": {
      "provenance": [],
      "authorship_tag": "ABX9TyO08GeMRr1HZ7ZZofYXXeyE",
      "include_colab_link": true
    },
    "kernelspec": {
      "name": "python3",
      "display_name": "Python 3"
    },
    "language_info": {
      "name": "python"
    }
  },
  "cells": [
    {
      "cell_type": "markdown",
      "metadata": {
        "id": "view-in-github",
        "colab_type": "text"
      },
      "source": [
        "<a href=\"https://colab.research.google.com/github/aashwin916/project-2/blob/main/DSMLTASK2ipynb.ipynb\" target=\"_parent\"><img src=\"https://colab.research.google.com/assets/colab-badge.svg\" alt=\"Open In Colab\"/></a>"
      ]
    },
    {
      "cell_type": "code",
      "execution_count": 1,
      "metadata": {
        "colab": {
          "base_uri": "https://localhost:8080/"
        },
        "id": "Cp1TBwzYTFIz",
        "outputId": "0f96852f-1b35-4c97-9d90-a5437f245845"
      },
      "outputs": [
        {
          "output_type": "stream",
          "name": "stdout",
          "text": [
            "Sum of all items: 15\n"
          ]
        }
      ],
      "source": [
        "#1. Write a Python program to sum all the items in a list.\n",
        "\n",
        "my_list = [1, 2, 3, 4, 5]\n",
        "total = sum(my_list)\n",
        "print(\"Sum of all items:\", total)\n"
      ]
    },
    {
      "cell_type": "code",
      "source": [
        "#2. Write a Python program to get the largest number from a list.\n",
        "my_list = [1, 3, 5, 7, 9]\n",
        "largest = max(my_list)\n",
        "print(\"Largest number:\", largest)\n"
      ],
      "metadata": {
        "colab": {
          "base_uri": "https://localhost:8080/"
        },
        "id": "wupQR98yWecI",
        "outputId": "b0e5a22d-a396-48df-c044-6fd23d241ce2"
      },
      "execution_count": 2,
      "outputs": [
        {
          "output_type": "stream",
          "name": "stdout",
          "text": [
            "Largest number: 9\n"
          ]
        }
      ]
    },
    {
      "cell_type": "code",
      "source": [
        "#3. Write a Python program to count the number of strings from a given list of strings. The string length is 2 or more and the first and last characters are the same.\n",
        "\n",
        "my_list = ['abc', 'xyz', 'aba', '1221']\n",
        "count = sum(1 for s in my_list if len(s) >= 2 and s[0] == s[-1])\n",
        "print(\"Count:\", count)\n"
      ],
      "metadata": {
        "colab": {
          "base_uri": "https://localhost:8080/"
        },
        "id": "m7kK1onoWvHX",
        "outputId": "9d15682d-9028-49f1-d34b-c09f88dd1f46"
      },
      "execution_count": 3,
      "outputs": [
        {
          "output_type": "stream",
          "name": "stdout",
          "text": [
            "Count: 2\n"
          ]
        }
      ]
    },
    {
      "cell_type": "code",
      "source": [
        "#4. Write a Python program to remove duplicates from a list.\n",
        "my_list = [1, 2, 2, 3, 4, 4, 5]\n",
        "unique_list = list(set(my_list))\n",
        "print(\"List after removing duplicates:\", unique_list)\n"
      ],
      "metadata": {
        "colab": {
          "base_uri": "https://localhost:8080/"
        },
        "id": "_TGrHPL8XecJ",
        "outputId": "c4d2b765-5f5c-4055-bae6-dc003ef6e497"
      },
      "execution_count": 4,
      "outputs": [
        {
          "output_type": "stream",
          "name": "stdout",
          "text": [
            "List after removing duplicates: [1, 2, 3, 4, 5]\n"
          ]
        }
      ]
    },
    {
      "cell_type": "code",
      "source": [
        "#5. Write a Python program to check if a list is empty or not.\n",
        "my_list = []\n",
        "if my_list:\n",
        "    print(\"List is not empty\")\n",
        "else:\n",
        "    print(\"List is empty\")\n"
      ],
      "metadata": {
        "colab": {
          "base_uri": "https://localhost:8080/"
        },
        "id": "pdzmIOttXsHH",
        "outputId": "31422919-da3b-45d9-9a2c-b2bf838eb36e"
      },
      "execution_count": 5,
      "outputs": [
        {
          "output_type": "stream",
          "name": "stdout",
          "text": [
            "List is empty\n"
          ]
        }
      ]
    },
    {
      "cell_type": "code",
      "source": [
        "#6. Write a Python program to filter the list if the length of the character is < 4\n",
        "\n",
        "my_list = ['abc', 'xyz', 'aba', '1221']\n",
        "filtered_list = [s for s in my_list if len(s) < 4]\n",
        "print(\"Filtered List:\", filtered_list)\n"
      ],
      "metadata": {
        "colab": {
          "base_uri": "https://localhost:8080/"
        },
        "id": "1F4JztlHZZDi",
        "outputId": "adc09ca9-9ae9-439e-dd19-e7243df7b9c0"
      },
      "execution_count": 6,
      "outputs": [
        {
          "output_type": "stream",
          "name": "stdout",
          "text": [
            "Filtered List: ['abc', 'xyz', 'aba']\n"
          ]
        }
      ]
    },
    {
      "cell_type": "code",
      "source": [
        "#7.Write a Python program to find the second largest number in a list.\n",
        "my_list = [1, 3, 5, 7, 9]\n",
        "second_largest = sorted(set(my_list))[-2]\n",
        "print(\"Second largest number:\", second_largest)\n"
      ],
      "metadata": {
        "colab": {
          "base_uri": "https://localhost:8080/"
        },
        "id": "T1aFN99hZoKt",
        "outputId": "c763a26e-6ea5-47e8-fdf4-d61b88a4db5e"
      },
      "execution_count": 7,
      "outputs": [
        {
          "output_type": "stream",
          "name": "stdout",
          "text": [
            "Second largest number: 7\n"
          ]
        }
      ]
    },
    {
      "cell_type": "code",
      "source": [
        "#8. Write a Python program to reverse a list at a specific location.\n",
        "my_list = [1, 2, 3, 4, 5]\n",
        "location = 2\n",
        "reversed_list = my_list[:location] + my_list[location:][::-1]\n",
        "print(\"Reversed List:\", reversed_list)\n",
        "\n",
        "\n"
      ],
      "metadata": {
        "colab": {
          "base_uri": "https://localhost:8080/"
        },
        "id": "X3FdAQSmaWJz",
        "outputId": "be2852b6-5e14-4c0c-8574-c3b8e084760b"
      },
      "execution_count": 8,
      "outputs": [
        {
          "output_type": "stream",
          "name": "stdout",
          "text": [
            "Reversed List: [1, 2, 5, 4, 3]\n"
          ]
        }
      ]
    },
    {
      "cell_type": "code",
      "source": [
        "#9. Write a Python program to check if a list is a palindrome or not. Return true otherwise false.\n",
        "my_list = [1, 2, 3, 2, 1]\n",
        "is_palindrome = my_list == my_list[::-1]\n",
        "print(\"Is Palindrome:\", is_palindrome)\n"
      ],
      "metadata": {
        "colab": {
          "base_uri": "https://localhost:8080/"
        },
        "id": "lYUq2sbRa0v6",
        "outputId": "6dbb9be5-d778-4c6a-971c-747ee88709fd"
      },
      "execution_count": 9,
      "outputs": [
        {
          "output_type": "stream",
          "name": "stdout",
          "text": [
            "Is Palindrome: True\n"
          ]
        }
      ]
    },
    {
      "cell_type": "code",
      "source": [
        "#10. Write a Python a program to find the union and intersection of two lists.\n",
        "list1 = [1, 2, 3, 4]\n",
        "list2 = [3, 4, 5, 6]\n",
        "union = list(set(list1) | set(list2))\n",
        "intersection = list(set(list1) & set(list2))\n",
        "print(\"Union:\", union)\n",
        "print(\"Intersection:\", intersection)\n"
      ],
      "metadata": {
        "colab": {
          "base_uri": "https://localhost:8080/"
        },
        "id": "Ssa3dP-TbKEp",
        "outputId": "5a495ef6-e8e3-4029-dcca-2bfef4429e52"
      },
      "execution_count": 10,
      "outputs": [
        {
          "output_type": "stream",
          "name": "stdout",
          "text": [
            "Union: [1, 2, 3, 4, 5, 6]\n",
            "Intersection: [3, 4]\n"
          ]
        }
      ]
    },
    {
      "cell_type": "code",
      "source": [
        "#11.Write a Python script to sort (ascending and descending) a dictionary by value\n",
        "my_dict = {'a': 3, 'b': 1, 'c': 2}\n",
        "sorted_asc = dict(sorted(my_dict.items(), key=lambda item: item[1]))\n",
        "sorted_desc = dict(sorted(my_dict.items(), key=lambda item: item[1], reverse=True))\n",
        "print(\"Ascending order:\", sorted_asc)\n",
        "print(\"Descending order:\", sorted_desc)\n"
      ],
      "metadata": {
        "colab": {
          "base_uri": "https://localhost:8080/"
        },
        "id": "UgtebahvcBVl",
        "outputId": "4e244815-2215-4cce-d76e-234977bb9624"
      },
      "execution_count": 11,
      "outputs": [
        {
          "output_type": "stream",
          "name": "stdout",
          "text": [
            "Ascending order: {'b': 1, 'c': 2, 'a': 3}\n",
            "Descending order: {'a': 3, 'c': 2, 'b': 1}\n"
          ]
        }
      ]
    },
    {
      "cell_type": "code",
      "source": [
        "#12. Write a Python script to check whether a given key already exists in a dictionary.\n",
        "my_dict = {'a': 1, 'b': 2, 'c': 3}\n",
        "key = 'b'\n",
        "exists = key in my_dict\n",
        "print(\"Key exists:\", exists)\n"
      ],
      "metadata": {
        "colab": {
          "base_uri": "https://localhost:8080/"
        },
        "id": "_Xa11cNyck0c",
        "outputId": "e56a53e4-d09e-4390-fc08-cb0ab7d23be5"
      },
      "execution_count": 12,
      "outputs": [
        {
          "output_type": "stream",
          "name": "stdout",
          "text": [
            "Key exists: True\n"
          ]
        }
      ]
    },
    {
      "cell_type": "code",
      "source": [
        "#13.Write a Python program to sum all the values in a dictionary.\n",
        "my_dict = {'a': 1, 'b': 2, 'c': 3}\n",
        "total = sum(my_dict.values())\n",
        "print(\"Sum of all values:\", total)\n"
      ],
      "metadata": {
        "colab": {
          "base_uri": "https://localhost:8080/"
        },
        "id": "0T6RwT9pc45I",
        "outputId": "e0f7bd3c-9f8b-409b-b293-619df06a6822"
      },
      "execution_count": 13,
      "outputs": [
        {
          "output_type": "stream",
          "name": "stdout",
          "text": [
            "Sum of all values: 6\n"
          ]
        }
      ]
    },
    {
      "cell_type": "code",
      "source": [
        "#14.Write a Python program to create a dictionary with a number and its corresponding square from 1 to input number. And also check if the input number is less than 10\n",
        "input_number = int(input(\"Enter a number: \"))\n",
        "if input_number < 10:\n",
        "    result_dict = {i: i**2 for i in range(1, input_number + 1)}\n",
        "    print(\"Result:\", result_dict)\n",
        "else:\n",
        "    print(\"Input number is not less than 10.\")\n"
      ],
      "metadata": {
        "colab": {
          "base_uri": "https://localhost:8080/"
        },
        "id": "ZfMDdrxpc_Gd",
        "outputId": "fa3fe44c-c754-44fc-fff3-e09581850467"
      },
      "execution_count": 14,
      "outputs": [
        {
          "output_type": "stream",
          "name": "stdout",
          "text": [
            "Enter a number: 9\n",
            "Result: {1: 1, 2: 4, 3: 9, 4: 16, 5: 25, 6: 36, 7: 49, 8: 64, 9: 81}\n"
          ]
        }
      ]
    },
    {
      "cell_type": "code",
      "source": [
        "#15.Write a Python program to sort a given dictionary by key.\n",
        "my_dict = {'b': 2, 'a': 1, 'c': 3}\n",
        "sorted_dict = dict(sorted(my_dict.items()))\n",
        "print(\"Sorted dictionary by key:\", sorted_dict)\n"
      ],
      "metadata": {
        "colab": {
          "base_uri": "https://localhost:8080/"
        },
        "id": "xdh63NgtdW6y",
        "outputId": "17cd11bc-501a-4b15-ce8c-617f820142c9"
      },
      "execution_count": 15,
      "outputs": [
        {
          "output_type": "stream",
          "name": "stdout",
          "text": [
            "Sorted dictionary by key: {'a': 1, 'b': 2, 'c': 3}\n"
          ]
        }
      ]
    },
    {
      "cell_type": "code",
      "source": [
        "#16.  Write a Python program to create a dictionary from a string.\n",
        "my_string = 'DGFGFZFDGFGHKKK'\n",
        "char_count = {}\n",
        "for char in my_string:\n",
        "    char_count[char] = char_count.get(char, 0) + 1\n",
        "print(\"Character count dictionary:\", char_count)\n"
      ],
      "metadata": {
        "colab": {
          "base_uri": "https://localhost:8080/"
        },
        "id": "Jn0smyINdkZk",
        "outputId": "e298e0ec-01fc-485f-cf44-42256b1d26b6"
      },
      "execution_count": 17,
      "outputs": [
        {
          "output_type": "stream",
          "name": "stdout",
          "text": [
            "Character count dictionary: {'D': 2, 'G': 4, 'F': 4, 'Z': 1, 'H': 1, 'K': 3}\n"
          ]
        }
      ]
    },
    {
      "cell_type": "code",
      "source": [
        "#17. Write a Python program to get the top three items in a shop.\n",
        "shop_items = {'item1': 45.50, 'item2': 35, 'item3': 41.30, 'item4': 55, 'item5': 24}\n",
        "top_three = sorted(shop_items.items(), key=lambda x: x[1], reverse=True)[:3]\n",
        "for item, price in top_three:\n",
        "    print(item, price)\n"
      ],
      "metadata": {
        "colab": {
          "base_uri": "https://localhost:8080/"
        },
        "id": "h42JUOCEd8hj",
        "outputId": "4e2c1154-2eac-4705-aea3-40f7ca805d8e"
      },
      "execution_count": 18,
      "outputs": [
        {
          "output_type": "stream",
          "name": "stdout",
          "text": [
            "item4 55\n",
            "item1 45.5\n",
            "item3 41.3\n"
          ]
        }
      ]
    }
  ]
}